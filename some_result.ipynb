{
 "cells": [
  {
   "cell_type": "code",
   "execution_count": null,
   "metadata": {},
   "outputs": [],
   "source": [
    "from datetime import datetime\n",
    "import requests\n",
    "def download():\n",
    "    base_url = \"https://clinicaltrials.gov/api/v2/studies\"\n",
    "    params = {\"format\": \"json\"}\n",
    "    response = requests.get(base_url, params=params)\n",
    "    if response.status_code == 200:\n",
    "        return response.json()\n",
    "    else:\n",
    "        return None\n",
    "\n",
    "def get_data_with_date(variable):\n",
    "    studies = variable.get('studies', [])\n",
    "    lst = []\n",
    "    for study in studies:\n",
    "        # Safely access nested keys\n",
    "        nctId = study['protocolSection']['identificationModule'].get('nctId', 'Unknown')\n",
    "        data = study.get('protocolSection', 'Unknown')\n",
    "        startDate = study['protocolSection']['statusModule'].get('startDateStruct', {}).get('date', 'Unknown Date')\n",
    "        lastUpdatePostDate = study['protocolSection']['statusModule'].get('lastUpdatePostDateStruct', {}).get('date', 'Unknown Date')\n",
    "        lst.append({\n",
    "                    \"NCT ID\": nctId,\n",
    "                    \"Start Date\": startDate,\n",
    "                    \"Last Update Post Date\": lastUpdatePostDate,\n",
    "                    \"data\": data\n",
    "                })\n",
    "    return lst\n",
    "\n",
    "def filter_by_date(data, date):\n",
    "    date = datetime.strptime(date, \"%Y-%m-%d\")\n",
    "    return [entry for entry in data if datetime.strptime(entry['Last Update Post Date'], \"%Y-%m-%d\") < date]\n",
    "\n",
    "\n",
    "variable = download()\n",
    "data_with_date = get_data_with_date(variable)\n",
    "filter_by_date = filter_by_date(data_with_date, date = \"2022-01-01\")"
   ]
  },
  {
   "cell_type": "code",
   "execution_count": null,
   "metadata": {},
   "outputs": [],
   "source": []
  }
 ],
 "metadata": {
  "language_info": {
   "name": "python"
  }
 },
 "nbformat": 4,
 "nbformat_minor": 2
}
