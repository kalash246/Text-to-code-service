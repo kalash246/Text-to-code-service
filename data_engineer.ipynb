{
 "cells": [
  {
   "cell_type": "code",
   "execution_count": 30,
   "metadata": {},
   "outputs": [],
   "source": [
    "import requests\n",
    "from datetime import datetime\n",
    "from uuid import uuid4\n",
    "import sys\n",
    "import pandas as pd"
   ]
  },
  {
   "cell_type": "code",
   "execution_count": 39,
   "metadata": {},
   "outputs": [],
   "source": [
    "def parameters(date=None):\n",
    "    if date is not None:\n",
    "        params = {\"format\": \"json\", \"query.term\": f\"AREA[LastUpdatePostDate]RANGE[{date},MAX]\"}\n",
    "    else:\n",
    "        params = {\"format\": \"json\"}\n",
    "    return params"
   ]
  },
  {
   "cell_type": "code",
   "execution_count": 41,
   "metadata": {},
   "outputs": [],
   "source": [
    "date = parameters(date = \"2018-01-01\")"
   ]
  },
  {
   "cell_type": "code",
   "execution_count": 97,
   "metadata": {},
   "outputs": [],
   "source": [
    "date = \"2024-05-10\""
   ]
  },
  {
   "cell_type": "code",
   "execution_count": 5,
   "metadata": {},
   "outputs": [],
   "source": [
    "base_url = \"https://clinicaltrials.gov/api/v2/studies\"\n",
    "params = {\"format\": \"json\"}\n",
    "response = requests.get(base_url, params = params)\n",
    "data = pd.DataFrame(response.json())\n",
    "# next_page_token = str(data['nextPageToken'][0])\n",
    "# next_page_token = list(data['nextPageToken'])"
   ]
  },
  {
   "cell_type": "code",
   "execution_count": 6,
   "metadata": {},
   "outputs": [
    {
     "data": {
      "text/plain": [
       "'KV197ZaEkvYg'"
      ]
     },
     "execution_count": 6,
     "metadata": {},
     "output_type": "execute_result"
    }
   ],
   "source": [
    "str(data['nextPageToken'][0])"
   ]
  },
  {
   "cell_type": "code",
   "execution_count": 9,
   "metadata": {},
   "outputs": [
    {
     "data": {
      "text/html": [
       "<div>\n",
       "<style scoped>\n",
       "    .dataframe tbody tr th:only-of-type {\n",
       "        vertical-align: middle;\n",
       "    }\n",
       "\n",
       "    .dataframe tbody tr th {\n",
       "        vertical-align: top;\n",
       "    }\n",
       "\n",
       "    .dataframe thead th {\n",
       "        text-align: right;\n",
       "    }\n",
       "</style>\n",
       "<table border=\"1\" class=\"dataframe\">\n",
       "  <thead>\n",
       "    <tr style=\"text-align: right;\">\n",
       "      <th></th>\n",
       "      <th>name</th>\n",
       "      <th>piece</th>\n",
       "      <th>title</th>\n",
       "      <th>sourceType</th>\n",
       "      <th>type</th>\n",
       "      <th>dedLink</th>\n",
       "      <th>children</th>\n",
       "      <th>description</th>\n",
       "    </tr>\n",
       "  </thead>\n",
       "  <tbody>\n",
       "    <tr>\n",
       "      <th>0</th>\n",
       "      <td>protocolSection</td>\n",
       "      <td>ProtocolSection</td>\n",
       "      <td>Protocol Section</td>\n",
       "      <td>STRUCT</td>\n",
       "      <td>ProtocolSection</td>\n",
       "      <td>{'label': 'Study Protocol', 'url': 'https://cl...</td>\n",
       "      <td>[{'name': 'identificationModule', 'piece': 'Id...</td>\n",
       "      <td>NaN</td>\n",
       "    </tr>\n",
       "    <tr>\n",
       "      <th>1</th>\n",
       "      <td>resultsSection</td>\n",
       "      <td>ResultsSection</td>\n",
       "      <td>Study Results</td>\n",
       "      <td>STRUCT</td>\n",
       "      <td>ResultsSection</td>\n",
       "      <td>{'label': 'Study Results', 'url': 'https://cli...</td>\n",
       "      <td>[{'name': 'participantFlowModule', 'piece': 'P...</td>\n",
       "      <td>NaN</td>\n",
       "    </tr>\n",
       "    <tr>\n",
       "      <th>2</th>\n",
       "      <td>annotationSection</td>\n",
       "      <td>AnnotationSection</td>\n",
       "      <td>Annotation Section</td>\n",
       "      <td>STRUCT</td>\n",
       "      <td>AnnotationSection</td>\n",
       "      <td>NaN</td>\n",
       "      <td>[{'name': 'annotationModule', 'piece': 'Annota...</td>\n",
       "      <td>Internally generated Annotation section</td>\n",
       "    </tr>\n",
       "    <tr>\n",
       "      <th>3</th>\n",
       "      <td>documentSection</td>\n",
       "      <td>DocumentSection</td>\n",
       "      <td>Document Upload Information Section</td>\n",
       "      <td>STRUCT</td>\n",
       "      <td>DocumentSection</td>\n",
       "      <td>NaN</td>\n",
       "      <td>[{'name': 'largeDocumentModule', 'piece': 'Lar...</td>\n",
       "      <td>NaN</td>\n",
       "    </tr>\n",
       "    <tr>\n",
       "      <th>4</th>\n",
       "      <td>derivedSection</td>\n",
       "      <td>DerivedSection</td>\n",
       "      <td>Derived Section</td>\n",
       "      <td>STRUCT</td>\n",
       "      <td>DerivedSection</td>\n",
       "      <td>NaN</td>\n",
       "      <td>[{'name': 'miscInfoModule', 'piece': 'MiscInfo...</td>\n",
       "      <td>Internally Generated</td>\n",
       "    </tr>\n",
       "    <tr>\n",
       "      <th>5</th>\n",
       "      <td>hasResults</td>\n",
       "      <td>HasResults</td>\n",
       "      <td>Has Results</td>\n",
       "      <td>FUNC Present(ResultsFirstSubmitDate)</td>\n",
       "      <td>boolean</td>\n",
       "      <td>NaN</td>\n",
       "      <td>NaN</td>\n",
       "      <td>Flag that indicates if a study has posted resu...</td>\n",
       "    </tr>\n",
       "  </tbody>\n",
       "</table>\n",
       "</div>"
      ],
      "text/plain": [
       "                name              piece                                title  \\\n",
       "0    protocolSection    ProtocolSection                     Protocol Section   \n",
       "1     resultsSection     ResultsSection                        Study Results   \n",
       "2  annotationSection  AnnotationSection                   Annotation Section   \n",
       "3    documentSection    DocumentSection  Document Upload Information Section   \n",
       "4     derivedSection     DerivedSection                      Derived Section   \n",
       "5         hasResults         HasResults                          Has Results   \n",
       "\n",
       "                             sourceType               type  \\\n",
       "0                                STRUCT    ProtocolSection   \n",
       "1                                STRUCT     ResultsSection   \n",
       "2                                STRUCT  AnnotationSection   \n",
       "3                                STRUCT    DocumentSection   \n",
       "4                                STRUCT     DerivedSection   \n",
       "5  FUNC Present(ResultsFirstSubmitDate)            boolean   \n",
       "\n",
       "                                             dedLink  \\\n",
       "0  {'label': 'Study Protocol', 'url': 'https://cl...   \n",
       "1  {'label': 'Study Results', 'url': 'https://cli...   \n",
       "2                                                NaN   \n",
       "3                                                NaN   \n",
       "4                                                NaN   \n",
       "5                                                NaN   \n",
       "\n",
       "                                            children  \\\n",
       "0  [{'name': 'identificationModule', 'piece': 'Id...   \n",
       "1  [{'name': 'participantFlowModule', 'piece': 'P...   \n",
       "2  [{'name': 'annotationModule', 'piece': 'Annota...   \n",
       "3  [{'name': 'largeDocumentModule', 'piece': 'Lar...   \n",
       "4  [{'name': 'miscInfoModule', 'piece': 'MiscInfo...   \n",
       "5                                                NaN   \n",
       "\n",
       "                                         description  \n",
       "0                                                NaN  \n",
       "1                                                NaN  \n",
       "2            Internally generated Annotation section  \n",
       "3                                                NaN  \n",
       "4                               Internally Generated  \n",
       "5  Flag that indicates if a study has posted resu...  "
      ]
     },
     "execution_count": 9,
     "metadata": {},
     "output_type": "execute_result"
    }
   ],
   "source": [
    "data"
   ]
  },
  {
   "cell_type": "code",
   "execution_count": null,
   "metadata": {},
   "outputs": [],
   "source": [
    "requests.get(base_url).json()"
   ]
  },
  {
   "cell_type": "code",
   "execution_count": 99,
   "metadata": {},
   "outputs": [
    {
     "data": {
      "text/html": [
       "<div>\n",
       "<style scoped>\n",
       "    .dataframe tbody tr th:only-of-type {\n",
       "        vertical-align: middle;\n",
       "    }\n",
       "\n",
       "    .dataframe tbody tr th {\n",
       "        vertical-align: top;\n",
       "    }\n",
       "\n",
       "    .dataframe thead th {\n",
       "        text-align: right;\n",
       "    }\n",
       "</style>\n",
       "<table border=\"1\" class=\"dataframe\">\n",
       "  <thead>\n",
       "    <tr style=\"text-align: right;\">\n",
       "      <th></th>\n",
       "      <th>studies</th>\n",
       "      <th>nextPageToken</th>\n",
       "    </tr>\n",
       "  </thead>\n",
       "  <tbody>\n",
       "    <tr>\n",
       "      <th>0</th>\n",
       "      <td>{'protocolSection': {'identificationModule': {...</td>\n",
       "      <td>NF0g5JeBlPUp</td>\n",
       "    </tr>\n",
       "    <tr>\n",
       "      <th>1</th>\n",
       "      <td>{'protocolSection': {'identificationModule': {...</td>\n",
       "      <td>NF0g5JeBlPUp</td>\n",
       "    </tr>\n",
       "    <tr>\n",
       "      <th>2</th>\n",
       "      <td>{'protocolSection': {'identificationModule': {...</td>\n",
       "      <td>NF0g5JeBlPUp</td>\n",
       "    </tr>\n",
       "    <tr>\n",
       "      <th>3</th>\n",
       "      <td>{'protocolSection': {'identificationModule': {...</td>\n",
       "      <td>NF0g5JeBlPUp</td>\n",
       "    </tr>\n",
       "    <tr>\n",
       "      <th>4</th>\n",
       "      <td>{'protocolSection': {'identificationModule': {...</td>\n",
       "      <td>NF0g5JeBlPUp</td>\n",
       "    </tr>\n",
       "    <tr>\n",
       "      <th>5</th>\n",
       "      <td>{'protocolSection': {'identificationModule': {...</td>\n",
       "      <td>NF0g5JeBlPUp</td>\n",
       "    </tr>\n",
       "    <tr>\n",
       "      <th>6</th>\n",
       "      <td>{'protocolSection': {'identificationModule': {...</td>\n",
       "      <td>NF0g5JeBlPUp</td>\n",
       "    </tr>\n",
       "    <tr>\n",
       "      <th>7</th>\n",
       "      <td>{'protocolSection': {'identificationModule': {...</td>\n",
       "      <td>NF0g5JeBlPUp</td>\n",
       "    </tr>\n",
       "    <tr>\n",
       "      <th>8</th>\n",
       "      <td>{'protocolSection': {'identificationModule': {...</td>\n",
       "      <td>NF0g5JeBlPUp</td>\n",
       "    </tr>\n",
       "    <tr>\n",
       "      <th>9</th>\n",
       "      <td>{'protocolSection': {'identificationModule': {...</td>\n",
       "      <td>NF0g5JeBlPUp</td>\n",
       "    </tr>\n",
       "  </tbody>\n",
       "</table>\n",
       "</div>"
      ],
      "text/plain": [
       "                                             studies nextPageToken\n",
       "0  {'protocolSection': {'identificationModule': {...  NF0g5JeBlPUp\n",
       "1  {'protocolSection': {'identificationModule': {...  NF0g5JeBlPUp\n",
       "2  {'protocolSection': {'identificationModule': {...  NF0g5JeBlPUp\n",
       "3  {'protocolSection': {'identificationModule': {...  NF0g5JeBlPUp\n",
       "4  {'protocolSection': {'identificationModule': {...  NF0g5JeBlPUp\n",
       "5  {'protocolSection': {'identificationModule': {...  NF0g5JeBlPUp\n",
       "6  {'protocolSection': {'identificationModule': {...  NF0g5JeBlPUp\n",
       "7  {'protocolSection': {'identificationModule': {...  NF0g5JeBlPUp\n",
       "8  {'protocolSection': {'identificationModule': {...  NF0g5JeBlPUp\n",
       "9  {'protocolSection': {'identificationModule': {...  NF0g5JeBlPUp"
      ]
     },
     "execution_count": 99,
     "metadata": {},
     "output_type": "execute_result"
    }
   ],
   "source": [
    "data"
   ]
  },
  {
   "cell_type": "code",
   "execution_count": null,
   "metadata": {},
   "outputs": [],
   "source": [
    "response.json()"
   ]
  },
  {
   "cell_type": "code",
   "execution_count": 93,
   "metadata": {},
   "outputs": [
    {
     "data": {
      "text/plain": [
       "['KV197ZaEkvYg',\n",
       " 'KV197ZaEkvYg',\n",
       " 'KV197ZaEkvYg',\n",
       " 'KV197ZaEkvYg',\n",
       " 'KV197ZaEkvYg',\n",
       " 'KV197ZaEkvYg',\n",
       " 'KV197ZaEkvYg',\n",
       " 'KV197ZaEkvYg',\n",
       " 'KV197ZaEkvYg',\n",
       " 'KV197ZaEkvYg']"
      ]
     },
     "execution_count": 93,
     "metadata": {},
     "output_type": "execute_result"
    }
   ],
   "source": [
    "next_page_token"
   ]
  },
  {
   "cell_type": "code",
   "execution_count": 56,
   "metadata": {},
   "outputs": [],
   "source": [
    "next_page_token = list(data['nextPageToken'])"
   ]
  },
  {
   "cell_type": "code",
   "execution_count": 42,
   "metadata": {},
   "outputs": [],
   "source": [
    "# date = input(\"Enter the date in YYYY-MM-DD format (or leave blank for all records): \")"
   ]
  },
  {
   "cell_type": "code",
   "execution_count": 63,
   "metadata": {},
   "outputs": [
    {
     "data": {
      "text/plain": [
       "'KV197ZaEkvYg'"
      ]
     },
     "execution_count": 63,
     "metadata": {},
     "output_type": "execute_result"
    }
   ],
   "source": [
    "next_page_token[0]"
   ]
  },
  {
   "cell_type": "code",
   "execution_count": 88,
   "metadata": {},
   "outputs": [],
   "source": [
    "date = \"2024-05-10\""
   ]
  },
  {
   "cell_type": "code",
   "execution_count": null,
   "metadata": {},
   "outputs": [],
   "source": [
    "requests.get(base_url, params={\"format\": \"json\", \"pageToken\": next_page_token[0]}).json()"
   ]
  },
  {
   "cell_type": "code",
   "execution_count": null,
   "metadata": {},
   "outputs": [],
   "source": [
    "requests.get(base_url, params={\"format\": \"json\", \"pageToken\": next_page_token[0]}).json()"
   ]
  },
  {
   "cell_type": "code",
   "execution_count": 92,
   "metadata": {},
   "outputs": [
    {
     "data": {
      "text/plain": [
       "'KV197ZaEkvYg'"
      ]
     },
     "execution_count": 92,
     "metadata": {},
     "output_type": "execute_result"
    }
   ],
   "source": [
    "next_page_token[2]"
   ]
  },
  {
   "cell_type": "code",
   "execution_count": 90,
   "metadata": {},
   "outputs": [
    {
     "data": {
      "text/html": [
       "<div>\n",
       "<style scoped>\n",
       "    .dataframe tbody tr th:only-of-type {\n",
       "        vertical-align: middle;\n",
       "    }\n",
       "\n",
       "    .dataframe tbody tr th {\n",
       "        vertical-align: top;\n",
       "    }\n",
       "\n",
       "    .dataframe thead th {\n",
       "        text-align: right;\n",
       "    }\n",
       "</style>\n",
       "<table border=\"1\" class=\"dataframe\">\n",
       "  <thead>\n",
       "    <tr style=\"text-align: right;\">\n",
       "      <th></th>\n",
       "      <th>studies</th>\n",
       "      <th>nextPageToken</th>\n",
       "    </tr>\n",
       "  </thead>\n",
       "  <tbody>\n",
       "    <tr>\n",
       "      <th>0</th>\n",
       "      <td>{'protocolSection': {'identificationModule': {...</td>\n",
       "      <td>NF0g5JKElfgoyQE</td>\n",
       "    </tr>\n",
       "    <tr>\n",
       "      <th>1</th>\n",
       "      <td>{'protocolSection': {'identificationModule': {...</td>\n",
       "      <td>NF0g5JKElfgoyQE</td>\n",
       "    </tr>\n",
       "    <tr>\n",
       "      <th>2</th>\n",
       "      <td>{'protocolSection': {'identificationModule': {...</td>\n",
       "      <td>NF0g5JKElfgoyQE</td>\n",
       "    </tr>\n",
       "    <tr>\n",
       "      <th>3</th>\n",
       "      <td>{'protocolSection': {'identificationModule': {...</td>\n",
       "      <td>NF0g5JKElfgoyQE</td>\n",
       "    </tr>\n",
       "    <tr>\n",
       "      <th>4</th>\n",
       "      <td>{'protocolSection': {'identificationModule': {...</td>\n",
       "      <td>NF0g5JKElfgoyQE</td>\n",
       "    </tr>\n",
       "    <tr>\n",
       "      <th>5</th>\n",
       "      <td>{'protocolSection': {'identificationModule': {...</td>\n",
       "      <td>NF0g5JKElfgoyQE</td>\n",
       "    </tr>\n",
       "    <tr>\n",
       "      <th>6</th>\n",
       "      <td>{'protocolSection': {'identificationModule': {...</td>\n",
       "      <td>NF0g5JKElfgoyQE</td>\n",
       "    </tr>\n",
       "    <tr>\n",
       "      <th>7</th>\n",
       "      <td>{'protocolSection': {'identificationModule': {...</td>\n",
       "      <td>NF0g5JKElfgoyQE</td>\n",
       "    </tr>\n",
       "    <tr>\n",
       "      <th>8</th>\n",
       "      <td>{'protocolSection': {'identificationModule': {...</td>\n",
       "      <td>NF0g5JKElfgoyQE</td>\n",
       "    </tr>\n",
       "    <tr>\n",
       "      <th>9</th>\n",
       "      <td>{'protocolSection': {'identificationModule': {...</td>\n",
       "      <td>NF0g5JKElfgoyQE</td>\n",
       "    </tr>\n",
       "  </tbody>\n",
       "</table>\n",
       "</div>"
      ],
      "text/plain": [
       "                                             studies    nextPageToken\n",
       "0  {'protocolSection': {'identificationModule': {...  NF0g5JKElfgoyQE\n",
       "1  {'protocolSection': {'identificationModule': {...  NF0g5JKElfgoyQE\n",
       "2  {'protocolSection': {'identificationModule': {...  NF0g5JKElfgoyQE\n",
       "3  {'protocolSection': {'identificationModule': {...  NF0g5JKElfgoyQE\n",
       "4  {'protocolSection': {'identificationModule': {...  NF0g5JKElfgoyQE\n",
       "5  {'protocolSection': {'identificationModule': {...  NF0g5JKElfgoyQE\n",
       "6  {'protocolSection': {'identificationModule': {...  NF0g5JKElfgoyQE\n",
       "7  {'protocolSection': {'identificationModule': {...  NF0g5JKElfgoyQE\n",
       "8  {'protocolSection': {'identificationModule': {...  NF0g5JKElfgoyQE\n",
       "9  {'protocolSection': {'identificationModule': {...  NF0g5JKElfgoyQE"
      ]
     },
     "execution_count": 90,
     "metadata": {},
     "output_type": "execute_result"
    }
   ],
   "source": [
    "pd.DataFrame(requests.get(base_url, params={\"format\": \"json\", \"pageToken\": next_page_token[3],  \n",
    "                                                               \"query.term\": f\"AREA[LastUpdatePostDate]RANGE[{date},MAX]\"}).json())"
   ]
  },
  {
   "cell_type": "code",
   "execution_count": null,
   "metadata": {},
   "outputs": [],
   "source": [
    "response_cont = requests.get(base_url, params={\"format\": \"json\", \"pageToken\": next_page_token,\n",
    "                                                                   \"query.term\": f\"AREA[LastUpdatePostDate]RANGE[{date},MAX]\"})"
   ]
  },
  {
   "cell_type": "code",
   "execution_count": null,
   "metadata": {},
   "outputs": [],
   "source": [
    "lst = []\n",
    "for item in next_page_token:\n",
    "    response_cont = requests.get(base_url, params={\"format\": \"json\", \"pageToken\": item,\n",
    "                                                               \"query.term\": f\"AREA[LastUpdatePostDate]RANGE[{date},MAX]\"})\n",
    "    lst.append(response_cont)\n",
    "lst"
   ]
  },
  {
   "cell_type": "code",
   "execution_count": 27,
   "metadata": {},
   "outputs": [],
   "source": [
    "if _name_ == \"_main_\":\n",
    "    parameter = parameters(date)\n",
    "    result = download(parameter)\n",
    "    write_ = write(result)"
   ]
  },
  {
   "cell_type": "code",
   "execution_count": 28,
   "metadata": {},
   "outputs": [],
   "source": []
  },
  {
   "cell_type": "code",
   "execution_count": 20,
   "metadata": {},
   "outputs": [],
   "source": [
    "from datetime import datetime\n",
    "filtered_entries = [entry for entry in lst if datetime.strptime(entry['Last Update Post Date'], \"%Y-%m-%d\") < datetime(2022, 1, 1)]\n"
   ]
  },
  {
   "cell_type": "code",
   "execution_count": 18,
   "metadata": {},
   "outputs": [
    {
     "data": {
      "text/plain": [
       "'--f=/Users/kalashsinghal/Library/Jupyter/runtime/kernel-v2-26598PkAhA6M3XQpA.json'"
      ]
     },
     "execution_count": 18,
     "metadata": {},
     "output_type": "execute_result"
    }
   ],
   "source": [
    "sys.argv[1]"
   ]
  },
  {
   "cell_type": "code",
   "execution_count": 14,
   "metadata": {},
   "outputs": [],
   "source": [
    "import requests\n",
    "from datetime import datetime\n",
    "from uuid import uuid4\n",
    "import os\n",
    "import pandas as pd\n",
    "import pyarrow\n",
    "\n",
    "def parameters(date=None):\n",
    "    if date is not None:\n",
    "        params = {\"format\": \"json\", \"query.term\": f\"AREA[LastUpdatePostDate]RANGE[{date},MAX]\"}\n",
    "    else:\n",
    "        params = {\"format\": \"json\"}\n",
    "    return params\n",
    "\n",
    "\n",
    "def download(params):\n",
    "    base_url = \"https://clinicaltrials.gov/api/v2/studies\"\n",
    "    response = requests.get(base_url, params=params)\n",
    "    response_ = pd.DataFrame(response.json())\n",
    "    next_page_token = str(response_['nextPageToken'][0])\n",
    "    pipeline_start_timestamp = datetime.now()\n",
    "    uuid = str(uuid4())\n",
    "    # for creating output folder to store parquet files\n",
    "    output_folder = 'output'\n",
    "    os.makedirs(output_folder, exist_ok=True)\n",
    "    while next_page_token:\n",
    "        try:\n",
    "            if date:\n",
    "                response_cont = requests.get(base_url, params={\"format\": \"json\", \"pageToken\": next_page_token,\n",
    "                                                               \"query.term\": f\"AREA[LastUpdatePostDate]RANGE[{date},MAX]\"})\n",
    "            else:\n",
    "                response_cont = requests.get(base_url, params={\"format\": \"json\", \"pageToken\": next_page_token})\n",
    "            \n",
    "            print(response_cont.json())\n",
    "            # response_cont = pd.DataFrame(response_cont.json())\n",
    "            # next_page_token = str(response_cont['nextPageToken'][0])\n",
    "            # response_cont[\"pipeline_start_timestamp\"] = pipeline_start_timestamp\n",
    "            # response_cont[\"uuid\"] = uuid\n",
    "            # pd.DataFrame.to_parquet(response_cont, path=\"output/parquet_{}\".format(pipeline_start_timestamp))\n",
    "            # response_ = pd.concat([response_, response_cont])\n",
    "        except KeyError:\n",
    "            next_page_token = None\n",
    "    if response.status_code == 200:\n",
    "        return response_\n",
    "    else:\n",
    "        raise Exception(\"Bad Request\")\n",
    "\n",
    "\n",
    "# def write(result_):\n",
    "#     pipeline_start_timestamp = datetime.now()\n",
    "#     result_.insert(2, \"Pipeline_start\", pipeline_start_timestamp)\n",
    "#     result_['uuid'] = str(uuid4())\n",
    "#     for token \n",
    "#     pd.DataFrame.to_parquet(result_, path=\"dump/parquet_\" + pipeline_start_timestamp)"
   ]
  },
  {
   "cell_type": "code",
   "execution_count": 10,
   "metadata": {},
   "outputs": [
    {
     "data": {
      "text/plain": [
       "'/Users/kalashsinghal/git/Text-to-code-service'"
      ]
     },
     "execution_count": 10,
     "metadata": {},
     "output_type": "execute_result"
    }
   ],
   "source": [
    "import os\n",
    "os.getcwd()"
   ]
  },
  {
   "cell_type": "code",
   "execution_count": 101,
   "metadata": {},
   "outputs": [],
   "source": [
    "date = \"2022-01-01\""
   ]
  },
  {
   "cell_type": "code",
   "execution_count": 2,
   "metadata": {},
   "outputs": [],
   "source": [
    "date = input(\"Enter the date in YYYY-MM-DD format (or leave blank for all records): \")"
   ]
  },
  {
   "cell_type": "code",
   "execution_count": null,
   "metadata": {},
   "outputs": [],
   "source": [
    "# date= None\n",
    "parameter = parameters(date)\n",
    "result = download(parameter)\n",
    "# write_ = write(result)"
   ]
  },
  {
   "cell_type": "code",
   "execution_count": 11,
   "metadata": {},
   "outputs": [
    {
     "data": {
      "text/html": [
       "<div>\n",
       "<style scoped>\n",
       "    .dataframe tbody tr th:only-of-type {\n",
       "        vertical-align: middle;\n",
       "    }\n",
       "\n",
       "    .dataframe tbody tr th {\n",
       "        vertical-align: top;\n",
       "    }\n",
       "\n",
       "    .dataframe thead th {\n",
       "        text-align: right;\n",
       "    }\n",
       "</style>\n",
       "<table border=\"1\" class=\"dataframe\">\n",
       "  <thead>\n",
       "    <tr style=\"text-align: right;\">\n",
       "      <th></th>\n",
       "      <th>studies</th>\n",
       "      <th>nextPageToken</th>\n",
       "      <th>pipeline_start_timestamp</th>\n",
       "      <th>uuid</th>\n",
       "    </tr>\n",
       "  </thead>\n",
       "  <tbody>\n",
       "    <tr>\n",
       "      <th>0</th>\n",
       "      <td>{'derivedSection': {'conditionBrowseModule': {...</td>\n",
       "      <td>NF0g5JGOk_EqwwE</td>\n",
       "      <td>2024-05-11 16:13:29.764073</td>\n",
       "      <td>900b5c54-78a9-41d1-9cfb-7d1b8f9149c9</td>\n",
       "    </tr>\n",
       "    <tr>\n",
       "      <th>1</th>\n",
       "      <td>{'derivedSection': {'conditionBrowseModule': N...</td>\n",
       "      <td>NF0g5JGOk_EqwwE</td>\n",
       "      <td>2024-05-11 16:13:29.764073</td>\n",
       "      <td>900b5c54-78a9-41d1-9cfb-7d1b8f9149c9</td>\n",
       "    </tr>\n",
       "    <tr>\n",
       "      <th>2</th>\n",
       "      <td>{'derivedSection': {'conditionBrowseModule': {...</td>\n",
       "      <td>NF0g5JGOk_EqwwE</td>\n",
       "      <td>2024-05-11 16:13:29.764073</td>\n",
       "      <td>900b5c54-78a9-41d1-9cfb-7d1b8f9149c9</td>\n",
       "    </tr>\n",
       "    <tr>\n",
       "      <th>3</th>\n",
       "      <td>{'derivedSection': {'conditionBrowseModule': {...</td>\n",
       "      <td>NF0g5JGOk_EqwwE</td>\n",
       "      <td>2024-05-11 16:13:29.764073</td>\n",
       "      <td>900b5c54-78a9-41d1-9cfb-7d1b8f9149c9</td>\n",
       "    </tr>\n",
       "    <tr>\n",
       "      <th>4</th>\n",
       "      <td>{'derivedSection': {'conditionBrowseModule': N...</td>\n",
       "      <td>NF0g5JGOk_EqwwE</td>\n",
       "      <td>2024-05-11 16:13:29.764073</td>\n",
       "      <td>900b5c54-78a9-41d1-9cfb-7d1b8f9149c9</td>\n",
       "    </tr>\n",
       "    <tr>\n",
       "      <th>5</th>\n",
       "      <td>{'derivedSection': {'conditionBrowseModule': {...</td>\n",
       "      <td>NF0g5JGOk_EqwwE</td>\n",
       "      <td>2024-05-11 16:13:29.764073</td>\n",
       "      <td>900b5c54-78a9-41d1-9cfb-7d1b8f9149c9</td>\n",
       "    </tr>\n",
       "    <tr>\n",
       "      <th>6</th>\n",
       "      <td>{'derivedSection': {'conditionBrowseModule': {...</td>\n",
       "      <td>NF0g5JGOk_EqwwE</td>\n",
       "      <td>2024-05-11 16:13:29.764073</td>\n",
       "      <td>900b5c54-78a9-41d1-9cfb-7d1b8f9149c9</td>\n",
       "    </tr>\n",
       "    <tr>\n",
       "      <th>7</th>\n",
       "      <td>{'derivedSection': {'conditionBrowseModule': {...</td>\n",
       "      <td>NF0g5JGOk_EqwwE</td>\n",
       "      <td>2024-05-11 16:13:29.764073</td>\n",
       "      <td>900b5c54-78a9-41d1-9cfb-7d1b8f9149c9</td>\n",
       "    </tr>\n",
       "    <tr>\n",
       "      <th>8</th>\n",
       "      <td>{'derivedSection': {'conditionBrowseModule': {...</td>\n",
       "      <td>NF0g5JGOk_EqwwE</td>\n",
       "      <td>2024-05-11 16:13:29.764073</td>\n",
       "      <td>900b5c54-78a9-41d1-9cfb-7d1b8f9149c9</td>\n",
       "    </tr>\n",
       "    <tr>\n",
       "      <th>9</th>\n",
       "      <td>{'derivedSection': {'conditionBrowseModule': {...</td>\n",
       "      <td>NF0g5JGOk_EqwwE</td>\n",
       "      <td>2024-05-11 16:13:29.764073</td>\n",
       "      <td>900b5c54-78a9-41d1-9cfb-7d1b8f9149c9</td>\n",
       "    </tr>\n",
       "  </tbody>\n",
       "</table>\n",
       "</div>"
      ],
      "text/plain": [
       "                                             studies    nextPageToken  \\\n",
       "0  {'derivedSection': {'conditionBrowseModule': {...  NF0g5JGOk_EqwwE   \n",
       "1  {'derivedSection': {'conditionBrowseModule': N...  NF0g5JGOk_EqwwE   \n",
       "2  {'derivedSection': {'conditionBrowseModule': {...  NF0g5JGOk_EqwwE   \n",
       "3  {'derivedSection': {'conditionBrowseModule': {...  NF0g5JGOk_EqwwE   \n",
       "4  {'derivedSection': {'conditionBrowseModule': N...  NF0g5JGOk_EqwwE   \n",
       "5  {'derivedSection': {'conditionBrowseModule': {...  NF0g5JGOk_EqwwE   \n",
       "6  {'derivedSection': {'conditionBrowseModule': {...  NF0g5JGOk_EqwwE   \n",
       "7  {'derivedSection': {'conditionBrowseModule': {...  NF0g5JGOk_EqwwE   \n",
       "8  {'derivedSection': {'conditionBrowseModule': {...  NF0g5JGOk_EqwwE   \n",
       "9  {'derivedSection': {'conditionBrowseModule': {...  NF0g5JGOk_EqwwE   \n",
       "\n",
       "    pipeline_start_timestamp                                  uuid  \n",
       "0 2024-05-11 16:13:29.764073  900b5c54-78a9-41d1-9cfb-7d1b8f9149c9  \n",
       "1 2024-05-11 16:13:29.764073  900b5c54-78a9-41d1-9cfb-7d1b8f9149c9  \n",
       "2 2024-05-11 16:13:29.764073  900b5c54-78a9-41d1-9cfb-7d1b8f9149c9  \n",
       "3 2024-05-11 16:13:29.764073  900b5c54-78a9-41d1-9cfb-7d1b8f9149c9  \n",
       "4 2024-05-11 16:13:29.764073  900b5c54-78a9-41d1-9cfb-7d1b8f9149c9  \n",
       "5 2024-05-11 16:13:29.764073  900b5c54-78a9-41d1-9cfb-7d1b8f9149c9  \n",
       "6 2024-05-11 16:13:29.764073  900b5c54-78a9-41d1-9cfb-7d1b8f9149c9  \n",
       "7 2024-05-11 16:13:29.764073  900b5c54-78a9-41d1-9cfb-7d1b8f9149c9  \n",
       "8 2024-05-11 16:13:29.764073  900b5c54-78a9-41d1-9cfb-7d1b8f9149c9  \n",
       "9 2024-05-11 16:13:29.764073  900b5c54-78a9-41d1-9cfb-7d1b8f9149c9  "
      ]
     },
     "execution_count": 11,
     "metadata": {},
     "output_type": "execute_result"
    }
   ],
   "source": [
    "pd.read_parquet('output/parquet_2024-05-11 16:13:29.764073.gzip')"
   ]
  },
  {
   "cell_type": "code",
   "execution_count": null,
   "metadata": {},
   "outputs": [],
   "source": []
  }
 ],
 "metadata": {
  "kernelspec": {
   "display_name": "Python 3",
   "language": "python",
   "name": "python3"
  },
  "language_info": {
   "codemirror_mode": {
    "name": "ipython",
    "version": 3
   },
   "file_extension": ".py",
   "mimetype": "text/x-python",
   "name": "python",
   "nbconvert_exporter": "python",
   "pygments_lexer": "ipython3",
   "version": "3.10.11"
  }
 },
 "nbformat": 4,
 "nbformat_minor": 2
}
